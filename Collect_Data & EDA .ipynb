{
  "cells": [
    {
      "cell_type": "markdown",
      "metadata": {
        "id": "Xc0E2le7_ekm"
      },
      "source": [
        "# Import"
      ]
    },
    {
      "cell_type": "code",
      "execution_count": 1,
      "metadata": {
        "id": "W0iPn6fkisgS"
      },
      "outputs": [],
      "source": [
        "import requests\n",
        "from bs4 import BeautifulSoup as bs\n",
        "import pandas as pd\n",
        "from matplotlib import pyplot as plt\n",
        "from matplotlib.ticker import MultipleLocator\n",
        "from datetime import datetime\n",
        "from datetime import date\n",
        "import time\n",
        "import os\n",
        "import seaborn as sns"
      ]
    },
    {
      "cell_type": "markdown",
      "metadata": {
        "id": "tG7oPsqIfkYf"
      },
      "source": [
        "# Cào dữ liệu"
      ]
    },
    {
      "cell_type": "markdown",
      "metadata": {
        "id": "_sFMKrE-fpA3"
      },
      "source": [
        "- Dữ liệu được cào từ trang web https://www.centralcharts.com/en/price-list-ranking/ALL/asc/ts_19-us-nasdaq-stocks--qc_1-alphabetical-order?p=1 của sàn chứng khoán US NASDAQ Stocks price list and quotes.\n",
        "\n",
        "- Dữ liệu được cào hằng ngày, vào khoảng sau 21h00. Điều này sẽ phục vụ cho mô hình dự đoán giá cổ phiếu theo ngày."
      ]
    },
    {
      "cell_type": "code",
      "execution_count": 2,
      "metadata": {
        "id": "KQ_gt5ypinxg"
      },
      "outputs": [],
      "source": [
        "pages = []\n",
        "# There are 155 pages in the entire set.\n",
        "for page_number in range(1, 155):\n",
        "    url = 'https://www.centralcharts.com/en/price-list-ranking/ALL/asc/ts_19-us-nasdaq-stocks--qc_1-alphabetical-order?p='\n",
        "    url = url + str(page_number)\n",
        "    pages.append(url)\n",
        "\n",
        "# Create a list containing the <th> tag contents.\n",
        "webpage = requests.get(pages[0])\n",
        "soup = bs(webpage.text, 'html.parser')\n",
        "stock_table = soup.find('table', class_='tabMini tabQuotes')\n",
        "th_tag_list = stock_table.find_all('th')\n",
        "\n",
        "# Take the <th> list and remove the extra attributes to\n",
        "# get just the text portion of each tag. Use this text for the\n",
        "# column header labels in the dataframe.\n",
        "headers = []\n",
        "for each_tag in th_tag_list:\n",
        "    title = each_tag.text\n",
        "    headers.append(title)\n",
        "\n",
        "headers[0] = 'Name'\n",
        "\n",
        "new_headers = []\n",
        "for header in headers:\n",
        "    if header not in ('Cap.', 'Issued Cap.', ''):\n",
        "        new_headers.append(header)\n",
        "headers = new_headers\n",
        "stock_df = pd.DataFrame(columns = headers)\n",
        "\n",
        "# Cycle through each page.\n",
        "for page in pages:\n",
        "    webpage = requests.get(page, timeout=60)\n",
        "    soup = bs(webpage.text, 'html.parser')\n",
        "\n",
        "    # Check to see if the page contains a table. If it does,\n",
        "    # create a list of <tr> tags. If not, go to the next page.\n",
        "    if soup.find('table'):\n",
        "        stock_table = soup.find('table', class_='tabMini tabQuotes')\n",
        "        tr_tag_list = stock_table.find_all('tr')\n",
        "\n",
        "        # Cycle through the <tr> list. For each\n",
        "        # row, find the <td> tags within the row. Then\n",
        "        # obtain the text within each <td> tag. Lastly,\n",
        "        # place the text in the last row of the dataframe.\n",
        "        for each_tr_tag in tr_tag_list[1:]:\n",
        "            td_tag_list = each_tr_tag.find_all('td')\n",
        "\n",
        "            row_values = []\n",
        "            for each_td_tag in td_tag_list[0:7]:\n",
        "                new_value = each_td_tag.text.strip()\n",
        "                row_values.append(new_value)\n",
        "\n",
        "            stock_df.loc[len(stock_df)] = row_values"
      ]
    },
    {
      "cell_type": "markdown",
      "metadata": {
        "id": "U7YtfxuRi9jN"
      },
      "source": [
        "Sau khi cào dữ liệu về, ta đánh dấu cột `date` chính là ngày cào dữ liệu. Mỗi lần cào tương ứng với ngày hôm đó."
      ]
    },
    {
      "cell_type": "code",
      "execution_count": 3,
      "metadata": {
        "id": "vj4XaEdpkgpH"
      },
      "outputs": [
        {
          "data": {
            "text/html": [
              "<div>\n",
              "<style scoped>\n",
              "    .dataframe tbody tr th:only-of-type {\n",
              "        vertical-align: middle;\n",
              "    }\n",
              "\n",
              "    .dataframe tbody tr th {\n",
              "        vertical-align: top;\n",
              "    }\n",
              "\n",
              "    .dataframe thead th {\n",
              "        text-align: right;\n",
              "    }\n",
              "</style>\n",
              "<table border=\"1\" class=\"dataframe\">\n",
              "  <thead>\n",
              "    <tr style=\"text-align: right;\">\n",
              "      <th></th>\n",
              "      <th>Name</th>\n",
              "      <th>Current price</th>\n",
              "      <th>Change(%)</th>\n",
              "      <th>Open</th>\n",
              "      <th>High</th>\n",
              "      <th>Low</th>\n",
              "      <th>Volume</th>\n",
              "      <th>date</th>\n",
              "    </tr>\n",
              "  </thead>\n",
              "  <tbody>\n",
              "    <tr>\n",
              "      <th>0</th>\n",
              "      <td>1-800-FLOWERS.COM INC.</td>\n",
              "      <td>5.08</td>\n",
              "      <td>-1.55%</td>\n",
              "      <td>5.21</td>\n",
              "      <td>5.21</td>\n",
              "      <td>5.08</td>\n",
              "      <td>26,840</td>\n",
              "      <td>06/11/2025</td>\n",
              "    </tr>\n",
              "    <tr>\n",
              "      <th>1</th>\n",
              "      <td>10X GENOMICS INC.</td>\n",
              "      <td>10.97</td>\n",
              "      <td>+3.00%</td>\n",
              "      <td>10.85</td>\n",
              "      <td>11.12</td>\n",
              "      <td>10.71</td>\n",
              "      <td>472,770</td>\n",
              "      <td>06/11/2025</td>\n",
              "    </tr>\n",
              "    <tr>\n",
              "      <th>2</th>\n",
              "      <td>111 INC. ADS</td>\n",
              "      <td>8.21</td>\n",
              "      <td>+1.73%</td>\n",
              "      <td>8.21</td>\n",
              "      <td>8.21</td>\n",
              "      <td>8.21</td>\n",
              "      <td>100</td>\n",
              "      <td>06/11/2025</td>\n",
              "    </tr>\n",
              "    <tr>\n",
              "      <th>3</th>\n",
              "      <td>17 EDUCATION &amp; TECHNOLOGY GROUP</td>\n",
              "      <td>1.96</td>\n",
              "      <td>-7.11%</td>\n",
              "      <td>2.07</td>\n",
              "      <td>2.07</td>\n",
              "      <td>1.96</td>\n",
              "      <td>2,554</td>\n",
              "      <td>06/11/2025</td>\n",
              "    </tr>\n",
              "    <tr>\n",
              "      <th>4</th>\n",
              "      <td>180 LIFE SCIENCES</td>\n",
              "      <td>1.04</td>\n",
              "      <td>+0.00%</td>\n",
              "      <td>1.03</td>\n",
              "      <td>1.04</td>\n",
              "      <td>1.03</td>\n",
              "      <td>3,646</td>\n",
              "      <td>06/11/2025</td>\n",
              "    </tr>\n",
              "    <tr>\n",
              "      <th>...</th>\n",
              "      <td>...</td>\n",
              "      <td>...</td>\n",
              "      <td>...</td>\n",
              "      <td>...</td>\n",
              "      <td>...</td>\n",
              "      <td>...</td>\n",
              "      <td>...</td>\n",
              "      <td>...</td>\n",
              "    </tr>\n",
              "    <tr>\n",
              "      <th>3607</th>\n",
              "      <td>ZURA BIO LTD.</td>\n",
              "      <td>1.30</td>\n",
              "      <td>+1.56%</td>\n",
              "      <td>1.29</td>\n",
              "      <td>1.33</td>\n",
              "      <td>1.25</td>\n",
              "      <td>66,410</td>\n",
              "      <td>06/11/2025</td>\n",
              "    </tr>\n",
              "    <tr>\n",
              "      <th>3608</th>\n",
              "      <td>ZW DATA ACTION TECHNOLOGIES</td>\n",
              "      <td>1.46</td>\n",
              "      <td>+15.87%</td>\n",
              "      <td>1.61</td>\n",
              "      <td>1.64</td>\n",
              "      <td>1.46</td>\n",
              "      <td>521,670</td>\n",
              "      <td>06/11/2025</td>\n",
              "    </tr>\n",
              "    <tr>\n",
              "      <th>3609</th>\n",
              "      <td>ZYMEWORKS INC.</td>\n",
              "      <td>13.09</td>\n",
              "      <td>+0.15%</td>\n",
              "      <td>13.19</td>\n",
              "      <td>13.22</td>\n",
              "      <td>13.01</td>\n",
              "      <td>19,482</td>\n",
              "      <td>06/11/2025</td>\n",
              "    </tr>\n",
              "    <tr>\n",
              "      <th>3610</th>\n",
              "      <td>ZYNEX INC.</td>\n",
              "      <td>2.14</td>\n",
              "      <td>-2.28%</td>\n",
              "      <td>2.18</td>\n",
              "      <td>2.22</td>\n",
              "      <td>2.14</td>\n",
              "      <td>5,134</td>\n",
              "      <td>06/11/2025</td>\n",
              "    </tr>\n",
              "    <tr>\n",
              "      <th>3611</th>\n",
              "      <td>ZYVERSA THERAPEUTICS INC.</td>\n",
              "      <td>0.6870</td>\n",
              "      <td>-1.86%</td>\n",
              "      <td>0.7240</td>\n",
              "      <td>0.7240</td>\n",
              "      <td>0.6837</td>\n",
              "      <td>54,572</td>\n",
              "      <td>06/11/2025</td>\n",
              "    </tr>\n",
              "  </tbody>\n",
              "</table>\n",
              "<p>3612 rows × 8 columns</p>\n",
              "</div>"
            ],
            "text/plain": [
              "                                 Name Current price Change(%)    Open    High  \\\n",
              "0              1-800-FLOWERS.COM INC.          5.08    -1.55%    5.21    5.21   \n",
              "1                   10X GENOMICS INC.         10.97    +3.00%   10.85   11.12   \n",
              "2                        111 INC. ADS          8.21    +1.73%    8.21    8.21   \n",
              "3     17 EDUCATION & TECHNOLOGY GROUP          1.96    -7.11%    2.07    2.07   \n",
              "4                   180 LIFE SCIENCES          1.04    +0.00%    1.03    1.04   \n",
              "...                               ...           ...       ...     ...     ...   \n",
              "3607                    ZURA BIO LTD.          1.30    +1.56%    1.29    1.33   \n",
              "3608      ZW DATA ACTION TECHNOLOGIES          1.46   +15.87%    1.61    1.64   \n",
              "3609                   ZYMEWORKS INC.         13.09    +0.15%   13.19   13.22   \n",
              "3610                       ZYNEX INC.          2.14    -2.28%    2.18    2.22   \n",
              "3611        ZYVERSA THERAPEUTICS INC.        0.6870    -1.86%  0.7240  0.7240   \n",
              "\n",
              "         Low   Volume        date  \n",
              "0       5.08   26,840  06/11/2025  \n",
              "1      10.71  472,770  06/11/2025  \n",
              "2       8.21      100  06/11/2025  \n",
              "3       1.96    2,554  06/11/2025  \n",
              "4       1.03    3,646  06/11/2025  \n",
              "...      ...      ...         ...  \n",
              "3607    1.25   66,410  06/11/2025  \n",
              "3608    1.46  521,670  06/11/2025  \n",
              "3609   13.01   19,482  06/11/2025  \n",
              "3610    2.14    5,134  06/11/2025  \n",
              "3611  0.6837   54,572  06/11/2025  \n",
              "\n",
              "[3612 rows x 8 columns]"
            ]
          },
          "execution_count": 3,
          "metadata": {},
          "output_type": "execute_result"
        }
      ],
      "source": [
        "stock_df['date'] = date.today().strftime('%m/%d/%Y')\n",
        "stock_df"
      ]
    },
    {
      "cell_type": "markdown",
      "metadata": {
        "id": "cMYYs38JjNJF"
      },
      "source": [
        "Lưu dữ liệu đã cào cho 1 ngày vào thư mục log."
      ]
    },
    {
      "cell_type": "code",
      "execution_count": 4,
      "metadata": {
        "id": "6gVHzbrRjgKo"
      },
      "outputs": [],
      "source": [
        "file_name = 'stock_data-' + date.today().strftime('%Y-%m-%d') + '.csv'\n",
        "if not os.path.exists('log'):\n",
        "    os.makedirs('log')\n",
        "stock_df.to_csv('log/' + file_name, index=False)\n",
        "# Export the dataframe to a csv file."
      ]
    },
    {
      "cell_type": "markdown",
      "metadata": {
        "id": "zllTrIPfjgCt"
      },
      "source": [
        "Đọc file tổng hợp và xem thử cho tới trước ngày hôm nay, chúng ta đã cào được bao nhiêu."
      ]
    },
    {
      "cell_type": "code",
      "execution_count": 6,
      "metadata": {
        "id": "C42M65ARkPq_"
      },
      "outputs": [
        {
          "data": {
            "text/html": [
              "<div>\n",
              "<style scoped>\n",
              "    .dataframe tbody tr th:only-of-type {\n",
              "        vertical-align: middle;\n",
              "    }\n",
              "\n",
              "    .dataframe tbody tr th {\n",
              "        vertical-align: top;\n",
              "    }\n",
              "\n",
              "    .dataframe thead th {\n",
              "        text-align: right;\n",
              "    }\n",
              "</style>\n",
              "<table border=\"1\" class=\"dataframe\">\n",
              "  <thead>\n",
              "    <tr style=\"text-align: right;\">\n",
              "      <th></th>\n",
              "      <th>Name</th>\n",
              "      <th>Current price</th>\n",
              "      <th>Change(%)</th>\n",
              "      <th>Open</th>\n",
              "      <th>High</th>\n",
              "      <th>Low</th>\n",
              "      <th>Volume</th>\n",
              "      <th>date</th>\n",
              "    </tr>\n",
              "  </thead>\n",
              "  <tbody>\n",
              "    <tr>\n",
              "      <th>0</th>\n",
              "      <td>MGO GLOBAL INC.</td>\n",
              "      <td>0.37</td>\n",
              "      <td>0</td>\n",
              "      <td>0.399</td>\n",
              "      <td>0.4599</td>\n",
              "      <td>0.33</td>\n",
              "      <td>111379653</td>\n",
              "      <td>3/5/2025</td>\n",
              "    </tr>\n",
              "    <tr>\n",
              "      <th>1</th>\n",
              "      <td>VISIONARY HOLDINGS INC.</td>\n",
              "      <td>2.51</td>\n",
              "      <td>94.57</td>\n",
              "      <td>2.28</td>\n",
              "      <td>2.85</td>\n",
              "      <td>2.17</td>\n",
              "      <td>24468952</td>\n",
              "      <td>3/5/2025</td>\n",
              "    </tr>\n",
              "    <tr>\n",
              "      <th>2</th>\n",
              "      <td>ADITXT INC.</td>\n",
              "      <td>0.0632</td>\n",
              "      <td>26.91</td>\n",
              "      <td>0.0635</td>\n",
              "      <td>0.067</td>\n",
              "      <td>0.0584</td>\n",
              "      <td>24278165</td>\n",
              "      <td>3/5/2025</td>\n",
              "    </tr>\n",
              "    <tr>\n",
              "      <th>3</th>\n",
              "      <td>NVIDIA CORP.</td>\n",
              "      <td>116.75</td>\n",
              "      <td>0.66</td>\n",
              "      <td>117.58</td>\n",
              "      <td>118</td>\n",
              "      <td>115.04</td>\n",
              "      <td>19755191</td>\n",
              "      <td>3/5/2025</td>\n",
              "    </tr>\n",
              "    <tr>\n",
              "      <th>4</th>\n",
              "      <td>MATTERPORT INC.</td>\n",
              "      <td>5.38</td>\n",
              "      <td>0</td>\n",
              "      <td>5.42</td>\n",
              "      <td>5.45</td>\n",
              "      <td>5.35</td>\n",
              "      <td>13993565</td>\n",
              "      <td>3/5/2025</td>\n",
              "    </tr>\n",
              "    <tr>\n",
              "      <th>...</th>\n",
              "      <td>...</td>\n",
              "      <td>...</td>\n",
              "      <td>...</td>\n",
              "      <td>...</td>\n",
              "      <td>...</td>\n",
              "      <td>...</td>\n",
              "      <td>...</td>\n",
              "      <td>...</td>\n",
              "    </tr>\n",
              "    <tr>\n",
              "      <th>351496</th>\n",
              "      <td>ZURA BIO LTD.</td>\n",
              "      <td>1.3</td>\n",
              "      <td>4.00%</td>\n",
              "      <td>1.27</td>\n",
              "      <td>1.37</td>\n",
              "      <td>1.25</td>\n",
              "      <td>275,758</td>\n",
              "      <td>6/10/2025</td>\n",
              "    </tr>\n",
              "    <tr>\n",
              "      <th>351497</th>\n",
              "      <td>ZW DATA ACTION TECHNOLOGIES</td>\n",
              "      <td>1.25</td>\n",
              "      <td>-0.79%</td>\n",
              "      <td>1.26</td>\n",
              "      <td>1.26</td>\n",
              "      <td>1.25</td>\n",
              "      <td>2,528</td>\n",
              "      <td>6/10/2025</td>\n",
              "    </tr>\n",
              "    <tr>\n",
              "      <th>351498</th>\n",
              "      <td>ZYMEWORKS INC.</td>\n",
              "      <td>12.73</td>\n",
              "      <td>2.25%</td>\n",
              "      <td>12.54</td>\n",
              "      <td>12.82</td>\n",
              "      <td>12.45</td>\n",
              "      <td>39,483</td>\n",
              "      <td>6/10/2025</td>\n",
              "    </tr>\n",
              "    <tr>\n",
              "      <th>351499</th>\n",
              "      <td>ZYNEX INC.</td>\n",
              "      <td>2.2</td>\n",
              "      <td>0.46%</td>\n",
              "      <td>2.21</td>\n",
              "      <td>2.25</td>\n",
              "      <td>2.2</td>\n",
              "      <td>24,144</td>\n",
              "      <td>6/10/2025</td>\n",
              "    </tr>\n",
              "    <tr>\n",
              "      <th>351500</th>\n",
              "      <td>ZYVERSA THERAPEUTICS INC.</td>\n",
              "      <td>0.708</td>\n",
              "      <td>10.66%</td>\n",
              "      <td>0.6208</td>\n",
              "      <td>0.7099</td>\n",
              "      <td>0.6152</td>\n",
              "      <td>626,259</td>\n",
              "      <td>6/10/2025</td>\n",
              "    </tr>\n",
              "  </tbody>\n",
              "</table>\n",
              "<p>351501 rows × 8 columns</p>\n",
              "</div>"
            ],
            "text/plain": [
              "                               Name Current price Change(%)    Open    High  \\\n",
              "0                   MGO GLOBAL INC.          0.37         0   0.399  0.4599   \n",
              "1           VISIONARY HOLDINGS INC.          2.51     94.57    2.28    2.85   \n",
              "2                       ADITXT INC.        0.0632     26.91  0.0635   0.067   \n",
              "3                      NVIDIA CORP.        116.75      0.66  117.58     118   \n",
              "4                   MATTERPORT INC.          5.38         0    5.42    5.45   \n",
              "...                             ...           ...       ...     ...     ...   \n",
              "351496                ZURA BIO LTD.           1.3     4.00%    1.27    1.37   \n",
              "351497  ZW DATA ACTION TECHNOLOGIES          1.25    -0.79%    1.26    1.26   \n",
              "351498               ZYMEWORKS INC.         12.73     2.25%   12.54   12.82   \n",
              "351499                   ZYNEX INC.           2.2     0.46%    2.21    2.25   \n",
              "351500    ZYVERSA THERAPEUTICS INC.         0.708    10.66%  0.6208  0.7099   \n",
              "\n",
              "           Low     Volume       date  \n",
              "0         0.33  111379653   3/5/2025  \n",
              "1         2.17   24468952   3/5/2025  \n",
              "2       0.0584   24278165   3/5/2025  \n",
              "3       115.04   19755191   3/5/2025  \n",
              "4         5.35   13993565   3/5/2025  \n",
              "...        ...        ...        ...  \n",
              "351496    1.25    275,758  6/10/2025  \n",
              "351497    1.25      2,528  6/10/2025  \n",
              "351498   12.45     39,483  6/10/2025  \n",
              "351499     2.2     24,144  6/10/2025  \n",
              "351500  0.6152    626,259  6/10/2025  \n",
              "\n",
              "[351501 rows x 8 columns]"
            ]
          },
          "execution_count": 6,
          "metadata": {},
          "output_type": "execute_result"
        }
      ],
      "source": [
        "integrated_df = pd.read_csv('integrated_stock_data.csv')\n",
        "integrated_df"
      ]
    },
    {
      "cell_type": "markdown",
      "metadata": {
        "id": "ZPCEX3YYjp8u"
      },
      "source": [
        "Sau đó, tích hợp lượng dự liệu đã cào hôm nay vào file tổng hợp. File này sẽ dùng cho phân tích, dự đoán giá cổ phiếu cho tương lai, dựa trên giá trị cổ phiếu của các ngày qua."
      ]
    },
    {
      "cell_type": "code",
      "execution_count": 7,
      "metadata": {
        "id": "9NvQBeChxULk"
      },
      "outputs": [
        {
          "data": {
            "text/html": [
              "<div>\n",
              "<style scoped>\n",
              "    .dataframe tbody tr th:only-of-type {\n",
              "        vertical-align: middle;\n",
              "    }\n",
              "\n",
              "    .dataframe tbody tr th {\n",
              "        vertical-align: top;\n",
              "    }\n",
              "\n",
              "    .dataframe thead th {\n",
              "        text-align: right;\n",
              "    }\n",
              "</style>\n",
              "<table border=\"1\" class=\"dataframe\">\n",
              "  <thead>\n",
              "    <tr style=\"text-align: right;\">\n",
              "      <th></th>\n",
              "      <th>Name</th>\n",
              "      <th>Current price</th>\n",
              "      <th>Change(%)</th>\n",
              "      <th>Open</th>\n",
              "      <th>High</th>\n",
              "      <th>Low</th>\n",
              "      <th>Volume</th>\n",
              "      <th>date</th>\n",
              "    </tr>\n",
              "  </thead>\n",
              "  <tbody>\n",
              "    <tr>\n",
              "      <th>0</th>\n",
              "      <td>MGO GLOBAL INC.</td>\n",
              "      <td>0.37</td>\n",
              "      <td>0</td>\n",
              "      <td>0.399</td>\n",
              "      <td>0.4599</td>\n",
              "      <td>0.33</td>\n",
              "      <td>111379653</td>\n",
              "      <td>3/5/2025</td>\n",
              "    </tr>\n",
              "    <tr>\n",
              "      <th>1</th>\n",
              "      <td>VISIONARY HOLDINGS INC.</td>\n",
              "      <td>2.51</td>\n",
              "      <td>94.57</td>\n",
              "      <td>2.28</td>\n",
              "      <td>2.85</td>\n",
              "      <td>2.17</td>\n",
              "      <td>24468952</td>\n",
              "      <td>3/5/2025</td>\n",
              "    </tr>\n",
              "    <tr>\n",
              "      <th>2</th>\n",
              "      <td>ADITXT INC.</td>\n",
              "      <td>0.0632</td>\n",
              "      <td>26.91</td>\n",
              "      <td>0.0635</td>\n",
              "      <td>0.067</td>\n",
              "      <td>0.0584</td>\n",
              "      <td>24278165</td>\n",
              "      <td>3/5/2025</td>\n",
              "    </tr>\n",
              "    <tr>\n",
              "      <th>3</th>\n",
              "      <td>NVIDIA CORP.</td>\n",
              "      <td>116.75</td>\n",
              "      <td>0.66</td>\n",
              "      <td>117.58</td>\n",
              "      <td>118</td>\n",
              "      <td>115.04</td>\n",
              "      <td>19755191</td>\n",
              "      <td>3/5/2025</td>\n",
              "    </tr>\n",
              "    <tr>\n",
              "      <th>4</th>\n",
              "      <td>MATTERPORT INC.</td>\n",
              "      <td>5.38</td>\n",
              "      <td>0</td>\n",
              "      <td>5.42</td>\n",
              "      <td>5.45</td>\n",
              "      <td>5.35</td>\n",
              "      <td>13993565</td>\n",
              "      <td>3/5/2025</td>\n",
              "    </tr>\n",
              "    <tr>\n",
              "      <th>...</th>\n",
              "      <td>...</td>\n",
              "      <td>...</td>\n",
              "      <td>...</td>\n",
              "      <td>...</td>\n",
              "      <td>...</td>\n",
              "      <td>...</td>\n",
              "      <td>...</td>\n",
              "      <td>...</td>\n",
              "    </tr>\n",
              "    <tr>\n",
              "      <th>355108</th>\n",
              "      <td>ZURA BIO LTD.</td>\n",
              "      <td>1.30</td>\n",
              "      <td>+1.56%</td>\n",
              "      <td>1.29</td>\n",
              "      <td>1.33</td>\n",
              "      <td>1.25</td>\n",
              "      <td>66,410</td>\n",
              "      <td>06/11/2025</td>\n",
              "    </tr>\n",
              "    <tr>\n",
              "      <th>355109</th>\n",
              "      <td>ZW DATA ACTION TECHNOLOGIES</td>\n",
              "      <td>1.46</td>\n",
              "      <td>+15.87%</td>\n",
              "      <td>1.61</td>\n",
              "      <td>1.64</td>\n",
              "      <td>1.46</td>\n",
              "      <td>521,670</td>\n",
              "      <td>06/11/2025</td>\n",
              "    </tr>\n",
              "    <tr>\n",
              "      <th>355110</th>\n",
              "      <td>ZYMEWORKS INC.</td>\n",
              "      <td>13.09</td>\n",
              "      <td>+0.15%</td>\n",
              "      <td>13.19</td>\n",
              "      <td>13.22</td>\n",
              "      <td>13.01</td>\n",
              "      <td>19,482</td>\n",
              "      <td>06/11/2025</td>\n",
              "    </tr>\n",
              "    <tr>\n",
              "      <th>355111</th>\n",
              "      <td>ZYNEX INC.</td>\n",
              "      <td>2.14</td>\n",
              "      <td>-2.28%</td>\n",
              "      <td>2.18</td>\n",
              "      <td>2.22</td>\n",
              "      <td>2.14</td>\n",
              "      <td>5,134</td>\n",
              "      <td>06/11/2025</td>\n",
              "    </tr>\n",
              "    <tr>\n",
              "      <th>355112</th>\n",
              "      <td>ZYVERSA THERAPEUTICS INC.</td>\n",
              "      <td>0.6870</td>\n",
              "      <td>-1.86%</td>\n",
              "      <td>0.7240</td>\n",
              "      <td>0.7240</td>\n",
              "      <td>0.6837</td>\n",
              "      <td>54,572</td>\n",
              "      <td>06/11/2025</td>\n",
              "    </tr>\n",
              "  </tbody>\n",
              "</table>\n",
              "<p>355113 rows × 8 columns</p>\n",
              "</div>"
            ],
            "text/plain": [
              "                               Name Current price Change(%)    Open    High  \\\n",
              "0                   MGO GLOBAL INC.          0.37         0   0.399  0.4599   \n",
              "1           VISIONARY HOLDINGS INC.          2.51     94.57    2.28    2.85   \n",
              "2                       ADITXT INC.        0.0632     26.91  0.0635   0.067   \n",
              "3                      NVIDIA CORP.        116.75      0.66  117.58     118   \n",
              "4                   MATTERPORT INC.          5.38         0    5.42    5.45   \n",
              "...                             ...           ...       ...     ...     ...   \n",
              "355108                ZURA BIO LTD.          1.30    +1.56%    1.29    1.33   \n",
              "355109  ZW DATA ACTION TECHNOLOGIES          1.46   +15.87%    1.61    1.64   \n",
              "355110               ZYMEWORKS INC.         13.09    +0.15%   13.19   13.22   \n",
              "355111                   ZYNEX INC.          2.14    -2.28%    2.18    2.22   \n",
              "355112    ZYVERSA THERAPEUTICS INC.        0.6870    -1.86%  0.7240  0.7240   \n",
              "\n",
              "           Low     Volume        date  \n",
              "0         0.33  111379653    3/5/2025  \n",
              "1         2.17   24468952    3/5/2025  \n",
              "2       0.0584   24278165    3/5/2025  \n",
              "3       115.04   19755191    3/5/2025  \n",
              "4         5.35   13993565    3/5/2025  \n",
              "...        ...        ...         ...  \n",
              "355108    1.25     66,410  06/11/2025  \n",
              "355109    1.46    521,670  06/11/2025  \n",
              "355110   13.01     19,482  06/11/2025  \n",
              "355111    2.14      5,134  06/11/2025  \n",
              "355112  0.6837     54,572  06/11/2025  \n",
              "\n",
              "[355113 rows x 8 columns]"
            ]
          },
          "execution_count": 7,
          "metadata": {},
          "output_type": "execute_result"
        }
      ],
      "source": [
        "integrated_df = pd.concat([integrated_df, stock_df], ignore_index=True)\n",
        "integrated_df.to_csv('integrated_stock_data.csv', index=False)\n",
        "integrated_df"
      ]
    },
    {
      "cell_type": "markdown",
      "metadata": {
        "id": "vHiRj2Wc_c9Q"
      },
      "source": [
        "# Khám phá dữ liệu"
      ]
    },
    {
      "cell_type": "markdown",
      "metadata": {
        "id": "a0jmRMgWkhMd"
      },
      "source": [
        "#### Đọc dữ liệu và hiển thị data frame"
      ]
    },
    {
      "cell_type": "code",
      "execution_count": 8,
      "metadata": {
        "colab": {
          "base_uri": "https://localhost:8080/",
          "height": 423
        },
        "id": "ayojK589_c9R",
        "outputId": "b50be07f-8291-46f4-f4f8-c4cdbae83ae3"
      },
      "outputs": [
        {
          "data": {
            "text/html": [
              "<div>\n",
              "<style scoped>\n",
              "    .dataframe tbody tr th:only-of-type {\n",
              "        vertical-align: middle;\n",
              "    }\n",
              "\n",
              "    .dataframe tbody tr th {\n",
              "        vertical-align: top;\n",
              "    }\n",
              "\n",
              "    .dataframe thead th {\n",
              "        text-align: right;\n",
              "    }\n",
              "</style>\n",
              "<table border=\"1\" class=\"dataframe\">\n",
              "  <thead>\n",
              "    <tr style=\"text-align: right;\">\n",
              "      <th></th>\n",
              "      <th>Name</th>\n",
              "      <th>Current price</th>\n",
              "      <th>Change(%)</th>\n",
              "      <th>Open</th>\n",
              "      <th>High</th>\n",
              "      <th>Low</th>\n",
              "      <th>Volume</th>\n",
              "      <th>date</th>\n",
              "    </tr>\n",
              "  </thead>\n",
              "  <tbody>\n",
              "    <tr>\n",
              "      <th>0</th>\n",
              "      <td>MGO GLOBAL INC.</td>\n",
              "      <td>0.37</td>\n",
              "      <td>0</td>\n",
              "      <td>0.399</td>\n",
              "      <td>0.4599</td>\n",
              "      <td>0.33</td>\n",
              "      <td>111379653</td>\n",
              "      <td>3/5/2025</td>\n",
              "    </tr>\n",
              "    <tr>\n",
              "      <th>1</th>\n",
              "      <td>VISIONARY HOLDINGS INC.</td>\n",
              "      <td>2.51</td>\n",
              "      <td>94.57</td>\n",
              "      <td>2.28</td>\n",
              "      <td>2.85</td>\n",
              "      <td>2.17</td>\n",
              "      <td>24468952</td>\n",
              "      <td>3/5/2025</td>\n",
              "    </tr>\n",
              "    <tr>\n",
              "      <th>2</th>\n",
              "      <td>ADITXT INC.</td>\n",
              "      <td>0.0632</td>\n",
              "      <td>26.91</td>\n",
              "      <td>0.0635</td>\n",
              "      <td>0.067</td>\n",
              "      <td>0.0584</td>\n",
              "      <td>24278165</td>\n",
              "      <td>3/5/2025</td>\n",
              "    </tr>\n",
              "    <tr>\n",
              "      <th>3</th>\n",
              "      <td>NVIDIA CORP.</td>\n",
              "      <td>116.75</td>\n",
              "      <td>0.66</td>\n",
              "      <td>117.58</td>\n",
              "      <td>118</td>\n",
              "      <td>115.04</td>\n",
              "      <td>19755191</td>\n",
              "      <td>3/5/2025</td>\n",
              "    </tr>\n",
              "    <tr>\n",
              "      <th>4</th>\n",
              "      <td>MATTERPORT INC.</td>\n",
              "      <td>5.38</td>\n",
              "      <td>0</td>\n",
              "      <td>5.42</td>\n",
              "      <td>5.45</td>\n",
              "      <td>5.35</td>\n",
              "      <td>13993565</td>\n",
              "      <td>3/5/2025</td>\n",
              "    </tr>\n",
              "    <tr>\n",
              "      <th>...</th>\n",
              "      <td>...</td>\n",
              "      <td>...</td>\n",
              "      <td>...</td>\n",
              "      <td>...</td>\n",
              "      <td>...</td>\n",
              "      <td>...</td>\n",
              "      <td>...</td>\n",
              "      <td>...</td>\n",
              "    </tr>\n",
              "    <tr>\n",
              "      <th>355108</th>\n",
              "      <td>ZURA BIO LTD.</td>\n",
              "      <td>1.30</td>\n",
              "      <td>+1.56%</td>\n",
              "      <td>1.29</td>\n",
              "      <td>1.33</td>\n",
              "      <td>1.25</td>\n",
              "      <td>66,410</td>\n",
              "      <td>06/11/2025</td>\n",
              "    </tr>\n",
              "    <tr>\n",
              "      <th>355109</th>\n",
              "      <td>ZW DATA ACTION TECHNOLOGIES</td>\n",
              "      <td>1.46</td>\n",
              "      <td>+15.87%</td>\n",
              "      <td>1.61</td>\n",
              "      <td>1.64</td>\n",
              "      <td>1.46</td>\n",
              "      <td>521,670</td>\n",
              "      <td>06/11/2025</td>\n",
              "    </tr>\n",
              "    <tr>\n",
              "      <th>355110</th>\n",
              "      <td>ZYMEWORKS INC.</td>\n",
              "      <td>13.09</td>\n",
              "      <td>+0.15%</td>\n",
              "      <td>13.19</td>\n",
              "      <td>13.22</td>\n",
              "      <td>13.01</td>\n",
              "      <td>19,482</td>\n",
              "      <td>06/11/2025</td>\n",
              "    </tr>\n",
              "    <tr>\n",
              "      <th>355111</th>\n",
              "      <td>ZYNEX INC.</td>\n",
              "      <td>2.14</td>\n",
              "      <td>-2.28%</td>\n",
              "      <td>2.18</td>\n",
              "      <td>2.22</td>\n",
              "      <td>2.14</td>\n",
              "      <td>5,134</td>\n",
              "      <td>06/11/2025</td>\n",
              "    </tr>\n",
              "    <tr>\n",
              "      <th>355112</th>\n",
              "      <td>ZYVERSA THERAPEUTICS INC.</td>\n",
              "      <td>0.6870</td>\n",
              "      <td>-1.86%</td>\n",
              "      <td>0.7240</td>\n",
              "      <td>0.7240</td>\n",
              "      <td>0.6837</td>\n",
              "      <td>54,572</td>\n",
              "      <td>06/11/2025</td>\n",
              "    </tr>\n",
              "  </tbody>\n",
              "</table>\n",
              "<p>355113 rows × 8 columns</p>\n",
              "</div>"
            ],
            "text/plain": [
              "                               Name Current price Change(%)    Open    High  \\\n",
              "0                   MGO GLOBAL INC.          0.37         0   0.399  0.4599   \n",
              "1           VISIONARY HOLDINGS INC.          2.51     94.57    2.28    2.85   \n",
              "2                       ADITXT INC.        0.0632     26.91  0.0635   0.067   \n",
              "3                      NVIDIA CORP.        116.75      0.66  117.58     118   \n",
              "4                   MATTERPORT INC.          5.38         0    5.42    5.45   \n",
              "...                             ...           ...       ...     ...     ...   \n",
              "355108                ZURA BIO LTD.          1.30    +1.56%    1.29    1.33   \n",
              "355109  ZW DATA ACTION TECHNOLOGIES          1.46   +15.87%    1.61    1.64   \n",
              "355110               ZYMEWORKS INC.         13.09    +0.15%   13.19   13.22   \n",
              "355111                   ZYNEX INC.          2.14    -2.28%    2.18    2.22   \n",
              "355112    ZYVERSA THERAPEUTICS INC.        0.6870    -1.86%  0.7240  0.7240   \n",
              "\n",
              "           Low     Volume        date  \n",
              "0         0.33  111379653    3/5/2025  \n",
              "1         2.17   24468952    3/5/2025  \n",
              "2       0.0584   24278165    3/5/2025  \n",
              "3       115.04   19755191    3/5/2025  \n",
              "4         5.35   13993565    3/5/2025  \n",
              "...        ...        ...         ...  \n",
              "355108    1.25     66,410  06/11/2025  \n",
              "355109    1.46    521,670  06/11/2025  \n",
              "355110   13.01     19,482  06/11/2025  \n",
              "355111    2.14      5,134  06/11/2025  \n",
              "355112  0.6837     54,572  06/11/2025  \n",
              "\n",
              "[355113 rows x 8 columns]"
            ]
          },
          "execution_count": 8,
          "metadata": {},
          "output_type": "execute_result"
        }
      ],
      "source": [
        "df = pd.read_csv('integrated_stock_data.csv')\n",
        "df"
      ]
    },
    {
      "cell_type": "markdown",
      "metadata": {
        "id": "fspwwSxMkp_M"
      },
      "source": [
        "#### Kiểm tra các ngày ta đã ghi nhận giá cổ phiếu"
      ]
    },
    {
      "cell_type": "code",
      "execution_count": 9,
      "metadata": {
        "colab": {
          "base_uri": "https://localhost:8080/"
        },
        "id": "UEpTyrmCNR_u",
        "outputId": "4d005333-2411-43fe-d96d-91f7eca103d3"
      },
      "outputs": [
        {
          "data": {
            "text/plain": [
              "array(['3/5/2025', '3/6/2025', '3/7/2025', '3/8/2025', '3/9/2025',\n",
              "       '3/10/2025', '3/11/2025', '3/12/2025', '3/13/2025', '3/14/2025',\n",
              "       '3/15/2025', '3/16/2025', '3/17/2025', '3/18/2025', '3/19/2025',\n",
              "       '3/20/2025', '3/21/2025', '3/22/2025', '3/23/2025', '3/24/2025',\n",
              "       '3/25/2025', '3/26/2025', '3/27/2025', '3/28/2025', '3/30/2025',\n",
              "       '3/31/2025', '3/29/2025', '4/1/2025', '4/2/2025', '4/3/2025',\n",
              "       '4/4/2025', '4/5/2025', '4/6/2025', '4/7/2025', '4/8/2025',\n",
              "       '4/9/2025', '4/10/2025', '4/11/2025', '4/12/2025', '4/13/2025',\n",
              "       '4/14/2025', '4/15/2025', '4/16/2025', '4/17/2025', '4/18/2025',\n",
              "       '4/19/2025', '4/20/2025', '4/21/2025', '4/22/2025', '4/23/2025',\n",
              "       '4/24/2025', '4/25/2025', '4/26/2025', '4/27/2025', '4/28/2025',\n",
              "       '4/29/2025', '4/30/2025', '5/1/2025', '5/2/2025', '5/3/2025',\n",
              "       '5/4/2025', '5/5/2025', '5/6/2025', '5/7/2025', '5/8/2025',\n",
              "       '5/9/2025', '5/10/2025', '5/11/2025', '5/12/2025', '5/13/2025',\n",
              "       '5/14/2025', '5/15/2025', '5/16/2025', '5/17/2025', '5/18/2025',\n",
              "       '5/19/2025', '5/20/2025', '5/21/2025', '5/22/2025', '5/23/2025',\n",
              "       '5/24/2025', '5/25/2025', '5/26/2025', '5/27/2025', '5/28/2025',\n",
              "       '5/29/2025', '5/30/2025', '5/31/2025', '6/1/2025', '6/2/2025',\n",
              "       '6/3/2025', '6/4/2025', '6/5/2025', '6/6/2025', '6/7/2025',\n",
              "       '6/8/2025', '6/9/2025', '6/10/2025', '06/11/2025'], dtype=object)"
            ]
          },
          "execution_count": 9,
          "metadata": {},
          "output_type": "execute_result"
        }
      ],
      "source": [
        "unique_dates = df['date'].unique()\n",
        "unique_dates"
      ]
    },
    {
      "cell_type": "markdown",
      "metadata": {
        "id": "3OW4dwnk_c9S"
      },
      "source": [
        "#### Xác định số hàng và số cột"
      ]
    },
    {
      "cell_type": "code",
      "execution_count": 10,
      "metadata": {
        "colab": {
          "base_uri": "https://localhost:8080/"
        },
        "id": "yIn2Mayd_c9S",
        "outputId": "5333b4ca-54ca-4e81-933f-8fd136f7c3a6"
      },
      "outputs": [
        {
          "name": "stdout",
          "output_type": "stream",
          "text": [
            "Rows: 355113, Columns: 8\n"
          ]
        }
      ],
      "source": [
        "print(f\"Rows: {df.shape[0]}, Columns: {df.shape[1]}\")"
      ]
    },
    {
      "cell_type": "markdown",
      "metadata": {
        "id": "N_4NFC2A_c9S"
      },
      "source": [
        "#### Xác định thuộc tính trong tệp dữ liệu"
      ]
    },
    {
      "cell_type": "code",
      "execution_count": 11,
      "metadata": {
        "colab": {
          "base_uri": "https://localhost:8080/"
        },
        "id": "OUiKaDCZ_c9S",
        "outputId": "e4f48d7f-d773-4e0e-cce9-538b16d489d9"
      },
      "outputs": [
        {
          "data": {
            "text/plain": [
              "['Name', 'Current price', 'Change(%)', 'Open', 'High', 'Low', 'Volume', 'date']"
            ]
          },
          "execution_count": 11,
          "metadata": {},
          "output_type": "execute_result"
        }
      ],
      "source": [
        "df.columns.tolist()"
      ]
    },
    {
      "cell_type": "markdown",
      "metadata": {
        "id": "ZgAkvDt9_c9S"
      },
      "source": [
        "🧾 1. Name\n",
        "- **Ý nghĩa:** Tên của công ty hoặc mã cổ phiếu.  \n",
        "- **Ví dụ:** `NVIDIA CORP.`, `TESLA INC.`, `ADITXT INC.`  \n",
        "- **Công dụng:** Xác định đơn vị cổ phiếu được theo dõi.\n",
        "\n",
        "\n",
        "💵 2. Current price\n",
        "- **Ý nghĩa:** Giá cổ phiếu hiện tại tại thời điểm ghi nhận (ngày 3/5/2025).  \n",
        "- **Đơn vị:** USD (đô la Mỹ).  \n",
        "- **Công dụng:** Giá đóng cửa cuối cùng trong ngày, là cơ sở để tính lời/lỗ.\n",
        "\n",
        "\n",
        "📈 3. Change(%)\n",
        "- **Ý nghĩa:** Tỷ lệ phần trăm thay đổi của giá cổ phiếu so với phiên trước đó.  \n",
        "- **Cách tính:**  \n",
        "$$\n",
        "\\text{Change(\\%)} = \\left( \\frac{\\text{Current Price} - \\text{Previous Close}}{\\text{Previous Close}} \\right) \\times 100\n",
        "$$\n",
        "\n",
        "\n",
        "- **Công dụng:** Đánh giá mức tăng/giảm trong ngày.\n",
        "\n",
        "\n",
        "🔓 4. Open\n",
        "- **Ý nghĩa:** Giá mở cửa – giá đầu tiên khi cổ phiếu bắt đầu giao dịch trong ngày.  \n",
        "- **Công dụng:** So sánh với giá hiện tại để biết xu hướng giá trong ngày.\n",
        "\n",
        "\n",
        "🔺 5. High\n",
        "- **Ý nghĩa:** Mức giá cao nhất mà cổ phiếu đạt được trong ngày.  \n",
        "- **Công dụng:** Cho thấy biên độ biến động của cổ phiếu.\n",
        "\n",
        "\n",
        "🔻 6. Low\n",
        "- **Ý nghĩa:** Mức giá thấp nhất trong ngày.  \n",
        "- **Công dụng:** Kết hợp với “High” để đánh giá độ biến động giá.\n",
        "\n",
        "\n",
        "📊 7. Volume\n",
        "- **Ý nghĩa:** Tổng số cổ phiếu đã được giao dịch trong ngày.  \n",
        "- **Công dụng:** Đánh giá tính thanh khoản.  \n",
        "  - **Cao:** Nhiều người mua/bán → cổ phiếu \"nóng\" hoặc phổ biến.  \n",
        "  - **Thấp:** Ít người quan tâm hoặc đang giữ dài hạn.\n",
        "\n",
        "\n",
        "📅 8. Date\n",
        "- **Ý nghĩa:** Ngày dữ liệu được ghi nhận.  \n",
        "- **Trong dataset:** Từ ngày 5/3/2025 đến ngày 4/5/2025  \n",
        "- **Công dụng:** Nếu có nhiều ngày, sẽ dùng để phân tích xu hướng theo thời gian.\n"
      ]
    },
    {
      "cell_type": "markdown",
      "metadata": {
        "id": "DDYeqCJo_c9S"
      },
      "source": [
        "#### Xác định kiểu dữ liệu cho từng thuộc tính"
      ]
    },
    {
      "cell_type": "code",
      "execution_count": 12,
      "metadata": {
        "colab": {
          "base_uri": "https://localhost:8080/",
          "height": 335
        },
        "id": "FoW2OsZd_c9T",
        "outputId": "ed18829c-508d-488f-ae73-a4fde2e9e451"
      },
      "outputs": [
        {
          "data": {
            "text/plain": [
              "Name             object\n",
              "Current price    object\n",
              "Change(%)        object\n",
              "Open             object\n",
              "High             object\n",
              "Low              object\n",
              "Volume           object\n",
              "date             object\n",
              "dtype: object"
            ]
          },
          "execution_count": 12,
          "metadata": {},
          "output_type": "execute_result"
        }
      ],
      "source": [
        "df.dtypes"
      ]
    },
    {
      "cell_type": "markdown",
      "metadata": {
        "id": "9d_StKu8C5Aj"
      },
      "source": [
        "#### Xóa bỏ cột không cần thiết như `Change(%)`"
      ]
    },
    {
      "cell_type": "code",
      "execution_count": 13,
      "metadata": {
        "id": "8MHIJLIdD3ij"
      },
      "outputs": [],
      "source": [
        "df = df.drop(columns=['Change(%)'])"
      ]
    },
    {
      "cell_type": "markdown",
      "metadata": {
        "id": "-OgfpMh5CuJb"
      },
      "source": [
        "#### Đổi sang kiểu dữ liệu phù hợp"
      ]
    },
    {
      "cell_type": "code",
      "execution_count": 14,
      "metadata": {
        "id": "3KjGf30lCtpk"
      },
      "outputs": [],
      "source": [
        "numeric_cols = ['Current price', 'Open', 'High', 'Low', 'Volume']\n",
        "for col in numeric_cols:\n",
        "    df[col] = pd.to_numeric(df[col].astype(str).str.replace('[^0-9.-]', '', regex=True), errors='coerce')\n",
        "\n",
        "df['date'] = pd.to_datetime(df['date'], format='%m/%d/%Y')"
      ]
    },
    {
      "cell_type": "code",
      "execution_count": 15,
      "metadata": {
        "colab": {
          "base_uri": "https://localhost:8080/",
          "height": 303
        },
        "id": "62y2j8swEKHi",
        "outputId": "ddd2d590-a189-46d3-9afb-1178538e4e99"
      },
      "outputs": [
        {
          "data": {
            "text/plain": [
              "Name                     object\n",
              "Current price           float64\n",
              "Open                    float64\n",
              "High                    float64\n",
              "Low                     float64\n",
              "Volume                  float64\n",
              "date             datetime64[ns]\n",
              "dtype: object"
            ]
          },
          "execution_count": 15,
          "metadata": {},
          "output_type": "execute_result"
        }
      ],
      "source": [
        "df.dtypes"
      ]
    },
    {
      "cell_type": "markdown",
      "metadata": {
        "id": "Y8gAdamK_c9T"
      },
      "source": [
        "## Tiền xử lý dữ liệu"
      ]
    },
    {
      "cell_type": "markdown",
      "metadata": {
        "id": "yID-rboh_c9T"
      },
      "source": [
        "#### Dữ liệu trùng lặp"
      ]
    },
    {
      "cell_type": "code",
      "execution_count": 16,
      "metadata": {
        "colab": {
          "base_uri": "https://localhost:8080/"
        },
        "id": "ZkLwilGn_c9T",
        "outputId": "4b8fb74a-1a6e-44d1-d1ed-b12e4318820a"
      },
      "outputs": [
        {
          "data": {
            "text/plain": [
              "132"
            ]
          },
          "execution_count": 16,
          "metadata": {},
          "output_type": "execute_result"
        }
      ],
      "source": [
        "df.duplicated().sum()"
      ]
    },
    {
      "cell_type": "markdown",
      "metadata": {
        "id": "Sw-dqUj6_c9T"
      },
      "source": [
        "Xoá dữ liệu trùng lặp"
      ]
    },
    {
      "cell_type": "code",
      "execution_count": 17,
      "metadata": {
        "colab": {
          "base_uri": "https://localhost:8080/"
        },
        "id": "12rgWoLD_c9T",
        "outputId": "71418c07-e1c4-465d-8c19-c29d837c7e54"
      },
      "outputs": [
        {
          "data": {
            "text/plain": [
              "(354981, 7)"
            ]
          },
          "execution_count": 17,
          "metadata": {},
          "output_type": "execute_result"
        }
      ],
      "source": [
        "df = df.drop_duplicates()\n",
        "df.shape"
      ]
    },
    {
      "cell_type": "markdown",
      "metadata": {
        "id": "A_3eSlfj_c9T"
      },
      "source": [
        "#### Xử lý dữ liệu bị thiếu"
      ]
    },
    {
      "cell_type": "code",
      "execution_count": 18,
      "metadata": {
        "id": "mYHPigI0_c9U"
      },
      "outputs": [],
      "source": [
        "df = df.dropna()"
      ]
    },
    {
      "cell_type": "markdown",
      "metadata": {
        "id": "eN_Fr_ynFebj"
      },
      "source": [
        "## Tiền xử lý dữ liệu cho modeling"
      ]
    },
    {
      "cell_type": "markdown",
      "metadata": {
        "id": "ASgx7B9nFm1C"
      },
      "source": [
        "Bởi vì mỗi loại cổ phiếu tồn tại bền vững đều phải có đúng 1 giá trị ở 1 ngày. Nên nếu cổ phiếu nào không khớp với số ngày thì phải loại bỏ."
      ]
    },
    {
      "cell_type": "markdown",
      "metadata": {},
      "source": [
        "Trước tiên, tính số ngày mà thu thập cổ phiếu cho tới hôm nay."
      ]
    },
    {
      "cell_type": "code",
      "execution_count": 19,
      "metadata": {
        "colab": {
          "base_uri": "https://localhost:8080/"
        },
        "id": "wIBLQwI1FmCK",
        "outputId": "6335a478-98e4-41fe-fdf0-7ef0fdb5038b"
      },
      "outputs": [
        {
          "data": {
            "text/plain": [
              "99"
            ]
          },
          "execution_count": 19,
          "metadata": {},
          "output_type": "execute_result"
        }
      ],
      "source": [
        "num_days = df['date'].nunique()\n",
        "num_days"
      ]
    },
    {
      "cell_type": "markdown",
      "metadata": {},
      "source": [
        "Như vậy, cổ phiếu nào mà số ngày xuất hiện không đủ như trên, thì loại bỏ."
      ]
    },
    {
      "cell_type": "code",
      "execution_count": 20,
      "metadata": {
        "colab": {
          "base_uri": "https://localhost:8080/"
        },
        "id": "ZLllugIYGe95",
        "outputId": "ce876c21-63bb-4e19-f871-820e51f8b645"
      },
      "outputs": [
        {
          "data": {
            "text/plain": [
              "(280764, 7)"
            ]
          },
          "execution_count": 20,
          "metadata": {},
          "output_type": "execute_result"
        }
      ],
      "source": [
        "name_counts = df['Name'].value_counts()\n",
        "valid_names = name_counts[name_counts == num_days].index\n",
        "\n",
        "# Giữ lại các dòng có 'Name' nằm trong danh sách đầy đủ số ngày\n",
        "df = df[df['Name'].isin(valid_names)]\n",
        "df.shape"
      ]
    },
    {
      "cell_type": "markdown",
      "metadata": {},
      "source": [
        "Lưu vào file dữ liệu đã làm sạch"
      ]
    },
    {
      "cell_type": "code",
      "execution_count": 21,
      "metadata": {
        "id": "zw--XQ2OGqyx"
      },
      "outputs": [],
      "source": [
        "df.to_csv('cleaned_integrated_stock_data.csv', index=False)"
      ]
    }
  ],
  "metadata": {
    "colab": {
      "provenance": []
    },
    "kernelspec": {
      "display_name": "base",
      "language": "python",
      "name": "python3"
    },
    "language_info": {
      "codemirror_mode": {
        "name": "ipython",
        "version": 3
      },
      "file_extension": ".py",
      "mimetype": "text/x-python",
      "name": "python",
      "nbconvert_exporter": "python",
      "pygments_lexer": "ipython3",
      "version": "3.11.7"
    }
  },
  "nbformat": 4,
  "nbformat_minor": 0
}
